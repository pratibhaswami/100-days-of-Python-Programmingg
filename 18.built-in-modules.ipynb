{
 "cells": [
  {
   "cell_type": "markdown",
   "metadata": {},
   "source": [
    "what are modules?\n",
    "\n",
    "consider a module to be the same as a code library.\n",
    "\n",
    "a file containing a set of function u wanna include in ur application\n",
    "\n",
    "example of python modules\n",
    "\n",
    "-match\n",
    "\n",
    "-random\n",
    "\n",
    "-os \n",
    "\n",
    "-time\n"
   ]
  },
  {
   "cell_type": "code",
   "execution_count": 2,
   "metadata": {},
   "outputs": [
    {
     "name": "stdout",
     "output_type": "stream",
     "text": [
      "\n",
      "Please wait a moment while I gather a list of all available modules...\n",
      "\n",
      "test_sqlite3: testing with version '2.6.0', sqlite_version '3.38.4'\n"
     ]
    },
    {
     "name": "stderr",
     "output_type": "stream",
     "text": [
      "c:\\Python311\\Lib\\pkgutil.py:107: VisibleDeprecationWarning: zmq.eventloop.minitornado is deprecated in pyzmq 14.0 and will be removed.\n",
      "    Install tornado itself to use zmq with the tornado IOLoop.\n",
      "    \n",
      "  yield from walk_packages(path, info.name+'.', onerror)\n",
      "c:\\Python311\\Lib\\pkgutil.py:92: UserWarning: The numpy.array_api submodule is still experimental. See NEP 47.\n",
      "  __import__(info.name)\n",
      "c:\\Python311\\Lib\\pkgutil.py:92: DeprecationWarning: \n",
      "\n",
      "  `numpy.distutils` is deprecated since NumPy 1.23.0, as a result\n",
      "  of the deprecation of `distutils` itself. It will be removed for\n",
      "  Python >= 3.12. For older Python versions it will remain present.\n",
      "  It is recommended to use `setuptools < 60.0` for those Python versions.\n",
      "  For more details, see:\n",
      "    https://numpy.org/devdocs/reference/distutils_status_migration.html \n",
      "\n",
      "\n",
      "  __import__(info.name)\n",
      "c:\\Python311\\Lib\\site-packages\\tqdm\\auto.py:21: TqdmWarning: IProgress not found. Please update jupyter and ipywidgets. See https://ipywidgets.readthedocs.io/en/stable/user_install.html\n",
      "  from .autonotebook import tqdm as notebook_tqdm\n",
      "c:\\Python311\\Lib\\site-packages\\visions\\utils\\monkeypatches\\imghdr_patch.py:2: DeprecationWarning: 'imghdr' is deprecated and slated for removal in Python 3.13\n",
      "  from imghdr import tests\n",
      "c:\\Python311\\Lib\\pkgutil.py:92: DeprecationWarning: `import pandas_profiling` is going to be deprecated by April 1st. Please use `import ydata_profiling` instead.\n",
      "  __import__(info.name)\n",
      "c:\\Python311\\Lib\\site-packages\\_distutils_hack\\__init__.py:33: UserWarning: Setuptools is replacing distutils.\n",
      "  warnings.warn(\"Setuptools is replacing distutils.\")\n",
      "c:\\Python311\\Lib\\site-packages\\pip\\_vendor\\pkg_resources\\__init__.py:121: DeprecationWarning: pkg_resources is deprecated as an API\n",
      "  warnings.warn(\"pkg_resources is deprecated as an API\", DeprecationWarning)\n",
      "c:\\Python311\\Lib\\site-packages\\pip\\_vendor\\pkg_resources\\__init__.py:2870: DeprecationWarning: Deprecated call to `pkg_resources.declare_namespace('mpl_toolkits')`.\n",
      "Implementing implicit namespace packages (as specified in PEP 420) is preferred to `pkg_resources.declare_namespace`. See https://setuptools.pypa.io/en/latest/references/keywords.html#keyword-namespace-packages\n",
      "  declare_namespace(pkg)\n",
      "c:\\Python311\\Lib\\site-packages\\setuptools\\command\\build_ext.py:8: DeprecationWarning: The distutils package is deprecated and slated for removal in Python 3.12. Use setuptools or check PEP 632 for potential alternatives\n",
      "  from distutils.command.build_ext import build_ext as _du_build_ext\n",
      "c:\\Python311\\Lib\\distutils\\command\\build_ext.py:13: DeprecationWarning: The distutils.sysconfig module is deprecated, use sysconfig instead\n",
      "  from distutils.sysconfig import customize_compiler, get_python_version\n",
      "c:\\Python311\\Lib\\site-packages\\tensorboard\\_vendor\\html5lib\\filters\\sanitizer.py:29: DeprecationWarning: html5lib's sanitizer is deprecated; see https://github.com/html5lib/html5lib-python/issues/443 and please let us know if Bleach is unsuitable for your needs\n",
      "  warnings.warn(_deprecation_msg, DeprecationWarning)\n"
     ]
    },
    {
     "name": "stdout",
     "output_type": "stream",
     "text": [
      "IPython             cachetools          modulefinder        sunau\n",
      "PIL                 calendar            msilib              symtable\n",
      "PyPDF2              certifi             msvcrt              sys\n",
      "__future__          cgi                 multimethod         sysconfig\n",
      "__hello__           cgitb               multiprocessing     tabnanny\n",
      "__phello__          charset_normalizer  mysql               tangled_up_in_unicode\n",
      "_abc                chunk               mysqlx              tarfile\n",
      "_aix_support        clang               nest_asyncio        telnetlib\n",
      "_ast                cmath               netbios             tempfile\n",
      "_asyncio            cmd                 netrc               tensorboard\n",
      "_bisect             code                networkx            tensorboard_data_server\n",
      "_blake2             codecs              nntplib             tensorflow\n",
      "_bootsubprocess     codeop              nt                  tensorflow_estimator\n",
      "_bz2                collections         ntpath              tensorflow_io_gcs_filesystem\n",
      "_codecs             colorama            ntsecuritycon       termcolor\n",
      "_codecs_cn          colorsys            nturl2path          test\n",
      "_codecs_hk          comm                numbers             textwrap\n",
      "_codecs_iso2022     commctrl            numpy               this\n",
      "_codecs_jp          compileall          oauthlib            threading\n",
      "_codecs_kr          concurrent          odbc                threadpoolctl\n",
      "_codecs_tw          configparser        opcode              time\n",
      "_collections        contextlib          operator            timeit\n",
      "_collections_abc    contextvars         opt_einsum          timer\n",
      "_compat_pickle      contourpy           optparse            tkinter\n",
      "_compression        copy                os                  token\n",
      "_contextvars        copyreg             packaging           tokenize\n",
      "_csv                crypt               pandas              tomllib\n",
      "_ctypes             csv                 pandas_profiling    tornado\n",
      "_ctypes_test        ctypes              parso               tqdm\n",
      "_datetime           curses              pasta               trace\n",
      "_decimal            cycler              pathlib             traceback\n",
      "_distutils_hack     dacite              patsy               tracemalloc\n",
      "_elementtree        dataclasses         pdb                 traitlets\n",
      "_functools          datetime            perfmon             tty\n",
      "_hashlib            dateutil            phik                turtle\n",
      "_heapq              dbi                 pickle              turtledemo\n",
      "_imp                dbm                 pickleshare         typeguard\n",
      "_io                 dde                 pickletools         types\n",
      "_json               debugpy             pip                 typing\n",
      "_locale             decimal             pipes               typing_extensions\n",
      "_lsprof             decorator           pkg_resources       tzdata\n",
      "_lzma               difflib             pkgutil             unicodedata\n",
      "_markupbase         dis                 platform            unittest\n",
      "_md5                distutils           platformdirs        urllib\n",
      "_msi                django              plistlib            urllib3\n",
      "_multibytecodec     doctest             poplib              uu\n",
      "_multiprocessing    email               posixpath           uuid\n",
      "_opcode             encodings           pprint              venv\n",
      "_operator           ensurepip           profile             visions\n",
      "_osx_support        entrypoints         prompt_toolkit      warnings\n",
      "_overlapped         enum                pstats              wave\n",
      "_pickle             errno               psutil              wcwidth\n",
      "_py_abc             executing           pty                 weakref\n",
      "_pydecimal          faulthandler        pure_eval           webbrowser\n",
      "_pyio               filecmp             py_compile          werkzeug\n",
      "_queue              fileinput           pyasn1              wheel\n",
      "_random             flatbuffers         pyasn1_modules      win2kras\n",
      "_sha1               fnmatch             pyclbr              win32api\n",
      "_sha256             fontTools           pydantic            win32clipboard\n",
      "_sha3               fractions           pydantic_core       win32com\n",
      "_sha512             ftplib              pydoc               win32con\n",
      "_signal             functools           pydoc_data          win32console\n",
      "_sitebuiltins       gast                pyexpat             win32cred\n",
      "_socket             gc                  pygments            win32crypt\n",
      "_sqlite3            genericpath         pylab               win32cryptcon\n",
      "_sre                getopt              pyodbc              win32event\n",
      "_ssl                getpass             pyparsing           win32evtlog\n",
      "_stat               gettext             pythoncom           win32evtlogutil\n",
      "_statistics         glob                pytz                win32file\n",
      "_string             google_auth_oauthlib pywin               win32gui\n",
      "_strptime           graphlib            pywin32_bootstrap   win32gui_struct\n",
      "_struct             graphviz            pywin32_testutil    win32help\n",
      "_symtable           grpc                pywintypes          win32inet\n",
      "_testbuffer         gzip                pywt                win32inetcon\n",
      "_testcapi           h5py                queue               win32job\n",
      "_testconsole        hashlib             quopri              win32lz\n",
      "_testimportmultiple heapq               random              win32net\n",
      "_testinternalcapi   hmac                rasutil             win32netcon\n",
      "_testmultiphase     html                re                  win32pdh\n",
      "_thread             htmlmin             regcheck            win32pdhquery\n",
      "_threading_local    http                regutil             win32pdhutil\n",
      "_tkinter            idlelib             reprlib             win32pipe\n",
      "_tokenize           idna                requests            win32print\n",
      "_tracemalloc        imagehash           requests_oauthlib   win32process\n",
      "_typing             imaplib             rlcompleter         win32profile\n",
      "_uuid               imghdr              rsa                 win32ras\n",
      "_warnings           imp                 runpy               win32rcparser\n",
      "_weakref            importlib           sched               win32security\n",
      "_weakrefset         inspect             scipy               win32service\n",
      "_win32sysloader     io                  seaborn             win32serviceutil\n",
      "_winapi             ipaddress           secrets             win32timezone\n",
      "_winxptheme         ipykernel           select              win32trace\n",
      "_xxsubinterpreters  ipykernel_launcher  selectors           win32traceutil\n",
      "_yaml               isapi               servicemanager      win32transaction\n",
      "_zoneinfo           itertools           setuptools          win32ts\n",
      "abc                 jedi                shelve              win32ui\n",
      "absl                jinja2              shlex               win32uiole\n",
      "adodbapi            joblib              shutil              win32verstamp\n",
      "afxres              json                signal              win32wnet\n",
      "aifc                jupyter             site                winerror\n",
      "annotated_types     jupyter_client      six                 winioctlcon\n",
      "antigravity         jupyter_core        sklearn             winnt\n",
      "argparse            keras               smtpd               winperf\n",
      "array               keyword             smtplib             winreg\n",
      "asgiref             kiwisolver          sndhdr              winsound\n",
      "ast                 lib2to3             socket              winxpgui\n",
      "asttokens           linecache           socketserver        winxptheme\n",
      "astunparse          locale              soupsieve           wordcloud\n",
      "asynchat            logging             sqlite3             wrapt\n",
      "asyncio             lzma                sqlparse            wsgiref\n",
      "asyncore            mailbox             sre_compile         xdrlib\n",
      "atexit              mailcap             sre_constants       xgboost\n",
      "attr                markdown            sre_parse           xml\n",
      "attrs               markupsafe          ssl                 xmlrpc\n",
      "audioop             marshal             sspi                xxsubtype\n",
      "backcall            math                sspicon             yaml\n",
      "base64              matplotlib          stack_data          ydata_profiling\n",
      "bdb                 matplotlib_inline   stat                zipapp\n",
      "binascii            mimetypes           statistics          zipfile\n",
      "bisect              missingno           statsmodels         zipimport\n",
      "bs4                 mlxtend             string              zlib\n",
      "builtins            mmap                stringprep          zmq\n",
      "bz2                 mmapfile            struct              zoneinfo\n",
      "cProfile            mmsystem            subprocess          ~umpy\n",
      "\n",
      "Enter any module name to get more help.  Or, type \"modules spam\" to search\n",
      "for modules whose name or summary contain the string \"spam\".\n",
      "\n"
     ]
    }
   ],
   "source": [
    "help('modules')"
   ]
  },
  {
   "cell_type": "code",
   "execution_count": 3,
   "metadata": {},
   "outputs": [],
   "source": [
    "import math"
   ]
  },
  {
   "cell_type": "code",
   "execution_count": 4,
   "metadata": {},
   "outputs": [
    {
     "data": {
      "text/plain": [
       "3.141592653589793"
      ]
     },
     "execution_count": 4,
     "metadata": {},
     "output_type": "execute_result"
    }
   ],
   "source": [
    "math.pi #(dot tab)"
   ]
  },
  {
   "cell_type": "code",
   "execution_count": 6,
   "metadata": {},
   "outputs": [
    {
     "data": {
      "text/plain": [
       "2.718281828459045"
      ]
     },
     "execution_count": 6,
     "metadata": {},
     "output_type": "execute_result"
    }
   ],
   "source": [
    "math.e"
   ]
  },
  {
   "cell_type": "code",
   "execution_count": 7,
   "metadata": {},
   "outputs": [
    {
     "data": {
      "text/plain": [
       "<function math.ceil(x, /)>"
      ]
     },
     "execution_count": 7,
     "metadata": {},
     "output_type": "execute_result"
    }
   ],
   "source": [
    "math.ceil"
   ]
  },
  {
   "cell_type": "code",
   "execution_count": 8,
   "metadata": {},
   "outputs": [
    {
     "data": {
      "text/plain": [
       "<function math.floor(x, /)>"
      ]
     },
     "execution_count": 8,
     "metadata": {},
     "output_type": "execute_result"
    }
   ],
   "source": [
    "math.floor"
   ]
  },
  {
   "cell_type": "code",
   "execution_count": 9,
   "metadata": {},
   "outputs": [
    {
     "data": {
      "text/plain": [
       "<function math.cos(x, /)>"
      ]
     },
     "execution_count": 9,
     "metadata": {},
     "output_type": "execute_result"
    }
   ],
   "source": [
    "math.cos"
   ]
  },
  {
   "cell_type": "code",
   "execution_count": 10,
   "metadata": {},
   "outputs": [],
   "source": [
    "import random"
   ]
  },
  {
   "cell_type": "code",
   "execution_count": 12,
   "metadata": {},
   "outputs": [
    {
     "data": {
      "text/plain": [
       "57"
      ]
     },
     "execution_count": 12,
     "metadata": {},
     "output_type": "execute_result"
    }
   ],
   "source": [
    "random.randint(1,100)"
   ]
  },
  {
   "cell_type": "code",
   "execution_count": 15,
   "metadata": {},
   "outputs": [
    {
     "data": {
      "text/plain": [
       "[45, 7, 2, 5, 3, 2, 1]"
      ]
     },
     "execution_count": 15,
     "metadata": {},
     "output_type": "execute_result"
    }
   ],
   "source": [
    "a = [3,2,1,5,45,7,2]\n",
    "random.shuffle(a)\n",
    "\n",
    "a"
   ]
  },
  {
   "cell_type": "code",
   "execution_count": 16,
   "metadata": {},
   "outputs": [],
   "source": [
    "import time"
   ]
  },
  {
   "cell_type": "code",
   "execution_count": 18,
   "metadata": {},
   "outputs": [
    {
     "data": {
      "text/plain": [
       "1694108074.2074318"
      ]
     },
     "execution_count": 18,
     "metadata": {},
     "output_type": "execute_result"
    }
   ],
   "source": [
    "time.time()"
   ]
  },
  {
   "cell_type": "code",
   "execution_count": 19,
   "metadata": {},
   "outputs": [
    {
     "data": {
      "text/plain": [
       "'Thu Sep  7 23:04:58 2023'"
      ]
     },
     "execution_count": 19,
     "metadata": {},
     "output_type": "execute_result"
    }
   ],
   "source": [
    "time.ctime() #current time"
   ]
  },
  {
   "cell_type": "code",
   "execution_count": 20,
   "metadata": {},
   "outputs": [
    {
     "name": "stdout",
     "output_type": "stream",
     "text": [
      "hello\n",
      "world\n"
     ]
    }
   ],
   "source": [
    "print('hello')\n",
    "time.sleep(1) #delay passed as 1 sec\n",
    "print('world')\n"
   ]
  },
  {
   "cell_type": "code",
   "execution_count": 21,
   "metadata": {},
   "outputs": [],
   "source": [
    "import os"
   ]
  },
  {
   "cell_type": "code",
   "execution_count": 22,
   "metadata": {},
   "outputs": [
    {
     "data": {
      "text/plain": [
       "'d:\\\\PythonWorkspace'"
      ]
     },
     "execution_count": 22,
     "metadata": {},
     "output_type": "execute_result"
    }
   ],
   "source": [
    "os.getcwd() #currnet working directory"
   ]
  },
  {
   "cell_type": "code",
   "execution_count": 23,
   "metadata": {},
   "outputs": [
    {
     "data": {
      "text/plain": [
       "['1.print-function.ipynb',\n",
       " '10.if-else-decision-control.ipynb',\n",
       " '11.indentation.ipynb',\n",
       " '12.loops.ipynb',\n",
       " '13.guessing-game.ipynb',\n",
       " '14.for-loops.ipynb',\n",
       " '15.nested-loop.ipynb',\n",
       " '16.break-continue-pass.ipynb',\n",
       " '17.built-in-functions.ipynb',\n",
       " '18.built-in-modules.ipynb',\n",
       " '2.data-types.ipynb',\n",
       " '3.comments.ipynb',\n",
       " '4.variables.ipynb',\n",
       " '5.keywords-and-identifiers.ipynb',\n",
       " '6.taking-user-input.ipynb',\n",
       " '7.type-conversion.ipynb',\n",
       " '8.literals.ipynb',\n",
       " '9.operators.ipynb']"
      ]
     },
     "execution_count": 23,
     "metadata": {},
     "output_type": "execute_result"
    }
   ],
   "source": [
    "os.listdir() #is directory ke bakii files aur ye file list hoti hai"
   ]
  },
  {
   "cell_type": "code",
   "execution_count": null,
   "metadata": {},
   "outputs": [],
   "source": []
  }
 ],
 "metadata": {
  "kernelspec": {
   "display_name": "Python 3",
   "language": "python",
   "name": "python3"
  },
  "language_info": {
   "codemirror_mode": {
    "name": "ipython",
    "version": 3
   },
   "file_extension": ".py",
   "mimetype": "text/x-python",
   "name": "python",
   "nbconvert_exporter": "python",
   "pygments_lexer": "ipython3",
   "version": "3.11.0"
  },
  "orig_nbformat": 4
 },
 "nbformat": 4,
 "nbformat_minor": 2
}
