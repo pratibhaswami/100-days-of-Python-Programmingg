{
 "cells": [
  {
   "cell_type": "markdown",
   "metadata": {},
   "source": [
    "Dictionary :\n",
    "it is key-value pair "
   ]
  },
  {
   "cell_type": "code",
   "execution_count": 1,
   "metadata": {},
   "outputs": [
    {
     "data": {
      "text/plain": [
       "{'name': 'pratibha', 'gender': 'female'}"
      ]
     },
     "execution_count": 1,
     "metadata": {},
     "output_type": "execute_result"
    }
   ],
   "source": [
    "{'name' : 'pratibha', 'gender' : 'female'}"
   ]
  },
  {
   "cell_type": "markdown",
   "metadata": {},
   "source": [
    "Rules :\n",
    "1) dict has no indexing\n",
    "2) dict is a mutable data typs\n",
    "3) keys always immutable, value can be mutable\n",
    "4) key should be unuque"
   ]
  },
  {
   "cell_type": "markdown",
   "metadata": {},
   "source": [
    "Mutable : list, set, dict\n",
    "\n",
    "Immutable : strings, tuples, integers, float, boolean, complex "
   ]
  },
  {
   "cell_type": "code",
   "execution_count": 3,
   "metadata": {},
   "outputs": [
    {
     "data": {
      "text/plain": [
       "dict"
      ]
     },
     "execution_count": 3,
     "metadata": {},
     "output_type": "execute_result"
    }
   ],
   "source": [
    "#creating\n",
    "\n",
    "d1 = {}\n",
    "type(d1)"
   ]
  },
  {
   "cell_type": "code",
   "execution_count": 6,
   "metadata": {},
   "outputs": [
    {
     "data": {
      "text/plain": [
       "{'name': 'pratibha', 'gender': 'female'}"
      ]
     },
     "execution_count": 6,
     "metadata": {},
     "output_type": "execute_result"
    }
   ],
   "source": [
    "d2 = {'name' : 'pratibha', 'gender' : 'female'} #normal dict\n",
    "d2"
   ]
  },
  {
   "cell_type": "code",
   "execution_count": 8,
   "metadata": {},
   "outputs": [
    {
     "ename": "TypeError",
     "evalue": "unhashable type: 'list'",
     "output_type": "error",
     "traceback": [
      "\u001b[1;31m---------------------------------------------------------------------------\u001b[0m",
      "\u001b[1;31mTypeError\u001b[0m                                 Traceback (most recent call last)",
      "Cell \u001b[1;32mIn[8], line 1\u001b[0m\n\u001b[1;32m----> 1\u001b[0m d1 \u001b[39m=\u001b[39m {[\u001b[39m1\u001b[39m,\u001b[39m2\u001b[39m,\u001b[39m3\u001b[39m]:\u001b[39m'\u001b[39m\u001b[39mpratibha\u001b[39m\u001b[39m'\u001b[39m} \u001b[39m#key is mutable and value is immutable\u001b[39;00m\n",
      "\u001b[1;31mTypeError\u001b[0m: unhashable type: 'list'"
     ]
    }
   ],
   "source": [
    "d1 = {[1,2,3]:'pratibha'} #key is mutable and value is immutable"
   ]
  },
  {
   "cell_type": "code",
   "execution_count": 9,
   "metadata": {},
   "outputs": [],
   "source": [
    "d1 = {(1,2,3):'pratibha'} #now key-> immutable, value could be mutable and immutable"
   ]
  },
  {
   "cell_type": "code",
   "execution_count": 10,
   "metadata": {},
   "outputs": [
    {
     "data": {
      "text/plain": [
       "{(1, 2, 3): 'pratibha'}"
      ]
     },
     "execution_count": 10,
     "metadata": {},
     "output_type": "execute_result"
    }
   ],
   "source": [
    "d1"
   ]
  },
  {
   "cell_type": "code",
   "execution_count": 12,
   "metadata": {},
   "outputs": [
    {
     "data": {
      "text/plain": [
       "{'name': 'onkar'}"
      ]
     },
     "execution_count": 12,
     "metadata": {},
     "output_type": "execute_result"
    }
   ],
   "source": [
    "d2 = {'name':'pratibha','name':'onkar'}\n",
    "d2 #python thought we'r tying update, so got updated!"
   ]
  },
  {
   "cell_type": "code",
   "execution_count": 1,
   "metadata": {},
   "outputs": [
    {
     "data": {
      "text/plain": [
       "{'name': 'pratihba', 'roll_no': 5, 'marks': {'m1': 60, 'm2': 70, 'm3': 80}}"
      ]
     },
     "execution_count": 1,
     "metadata": {},
     "output_type": "execute_result"
    }
   ],
   "source": [
    "# 2D dictionaries\n",
    "\n",
    "d3 = {'name':'pratihba','roll_no':5,'marks':{'m1':60,'m2':70,'m3':80}}\n",
    "d3"
   ]
  },
  {
   "cell_type": "code",
   "execution_count": 26,
   "metadata": {},
   "outputs": [
    {
     "data": {
      "text/plain": [
       "{'m1': 100, 'm2': 70, 'm3': 80}"
      ]
     },
     "execution_count": 26,
     "metadata": {},
     "output_type": "execute_result"
    }
   ],
   "source": [
    "#Accessing items\n",
    "\n",
    "# d3[0] #not allowed\n",
    "\n",
    "# solution : write key name\n",
    "\n",
    "d3['name']\n",
    "\n",
    "d3['marks']\n",
    "d3['marks']['m1']\n",
    "\n",
    "d3.get('marks') #but, in 2D we can't use get functin, so better to use previous one\n",
    "\n",
    "# In dict there isn't indexing, nor slicing. only way by providing correct key"
   ]
  },
  {
   "cell_type": "code",
   "execution_count": 25,
   "metadata": {},
   "outputs": [
    {
     "data": {
      "text/plain": [
       "{'name': 'om', 'roll_no': 5, 'marks': {'m1': 100, 'm2': 70, 'm3': 80}}"
      ]
     },
     "execution_count": 25,
     "metadata": {},
     "output_type": "execute_result"
    }
   ],
   "source": [
    "#editing\n",
    "\n",
    "d3['name'] = 'om'\n",
    "d3\n",
    "\n",
    "d3['marks']['m1'] = 100\n",
    "d3\n",
    "\n",
    "#the way we access, can edit also both in terms of 1D as well as in 2D"
   ]
  },
  {
   "cell_type": "code",
   "execution_count": 31,
   "metadata": {},
   "outputs": [
    {
     "data": {
      "text/plain": [
       "{'name': 'om',\n",
       " 'roll_no': 5,\n",
       " 'marks': {'m1': 100, 'm2': 70, 'm3': 80, 'ds': 70},\n",
       " 'age': 30}"
      ]
     },
     "execution_count": 31,
     "metadata": {},
     "output_type": "execute_result"
    }
   ],
   "source": [
    "#Adding new key_value pair\n",
    "\n",
    "d3['age'] = 30\n",
    "d3\n",
    "\n",
    "d3['marks']['ds']=70 #on 2D\n",
    "d3"
   ]
  },
  {
   "cell_type": "code",
   "execution_count": 36,
   "metadata": {},
   "outputs": [
    {
     "data": {
      "text/plain": [
       "{'name': 'om',\n",
       " 'roll_no': 5,\n",
       " 'marks': {'m1': 100, 'm2': 70, 'm3': 80, 'ds': 70}}"
      ]
     },
     "execution_count": 36,
     "metadata": {},
     "output_type": "execute_result"
    }
   ],
   "source": [
    "# deleteing\n",
    "\n",
    "# d5 = {}\n",
    "# del d5\n",
    "# d5\n",
    "\n",
    "del d3['age'] #specific key will remove\n",
    "d3\n",
    "\n",
    "d3.clear()"
   ]
  },
  {
   "cell_type": "code",
   "execution_count": 48,
   "metadata": {},
   "outputs": [
    {
     "name": "stdout",
     "output_type": "stream",
     "text": [
      "name om\n",
      "roll_no 5\n",
      "marks {'m1': 100, 'm2': 70, 'm3': 80, 'ds': 70}\n"
     ]
    },
    {
     "data": {
      "text/plain": [
       "True"
      ]
     },
     "execution_count": 48,
     "metadata": {},
     "output_type": "execute_result"
    }
   ],
   "source": [
    "#operations\n",
    "d1\n",
    "d3\n",
    "\n",
    "# d1 + d3 #concatination doesn't work just like set\n",
    "\n",
    "# d1 * 3 #doesn't work\n",
    "\n",
    "# for i in d3:\n",
    "#     print(i) #looping work, but u'll get only keys not values\n",
    "\n",
    "\n",
    "# if want values, can modify the code\n",
    "for i in d3:\n",
    "    print(i,d3[i]) #i mns key\n",
    "\n",
    "\n",
    "'om' in d3\n",
    "'name' in d3 #only checks in keys\n"
   ]
  },
  {
   "cell_type": "code",
   "execution_count": 49,
   "metadata": {},
   "outputs": [
    {
     "data": {
      "text/plain": [
       "3"
      ]
     },
     "execution_count": 49,
     "metadata": {},
     "output_type": "execute_result"
    }
   ],
   "source": [
    "#functions\n",
    "\n",
    "len(d3)"
   ]
  },
  {
   "cell_type": "code",
   "execution_count": 50,
   "metadata": {},
   "outputs": [
    {
     "data": {
      "text/plain": [
       "'marks'"
      ]
     },
     "execution_count": 50,
     "metadata": {},
     "output_type": "execute_result"
    }
   ],
   "source": [
    "min(d3) #lexiographically  (by ASCII value)"
   ]
  },
  {
   "cell_type": "code",
   "execution_count": 51,
   "metadata": {},
   "outputs": [
    {
     "data": {
      "text/plain": [
       "'roll_no'"
      ]
     },
     "execution_count": 51,
     "metadata": {},
     "output_type": "execute_result"
    }
   ],
   "source": [
    "max(d3)"
   ]
  },
  {
   "cell_type": "code",
   "execution_count": 52,
   "metadata": {},
   "outputs": [
    {
     "data": {
      "text/plain": [
       "['marks', 'name', 'roll_no']"
      ]
     },
     "execution_count": 52,
     "metadata": {},
     "output_type": "execute_result"
    }
   ],
   "source": [
    "sorted(d3)"
   ]
  },
  {
   "cell_type": "code",
   "execution_count": 53,
   "metadata": {},
   "outputs": [
    {
     "data": {
      "text/plain": [
       "['roll_no', 'name', 'marks']"
      ]
     },
     "execution_count": 53,
     "metadata": {},
     "output_type": "execute_result"
    }
   ],
   "source": [
    "sorted(d3,reverse=True)"
   ]
  },
  {
   "cell_type": "code",
   "execution_count": null,
   "metadata": {},
   "outputs": [],
   "source": [
    "# if values would be numeric sum would've been also work"
   ]
  },
  {
   "cell_type": "code",
   "execution_count": 54,
   "metadata": {},
   "outputs": [
    {
     "data": {
      "text/plain": [
       "dict_keys(['name', 'roll_no', 'marks'])"
      ]
     },
     "execution_count": 54,
     "metadata": {},
     "output_type": "execute_result"
    }
   ],
   "source": [
    "d3.keys() #return all keys"
   ]
  },
  {
   "cell_type": "code",
   "execution_count": 56,
   "metadata": {},
   "outputs": [
    {
     "data": {
      "text/plain": [
       "dict_values(['om', 5, {'m1': 100, 'm2': 70, 'm3': 80, 'ds': 70}])"
      ]
     },
     "execution_count": 56,
     "metadata": {},
     "output_type": "execute_result"
    }
   ],
   "source": [
    "d3.values() #return all values"
   ]
  },
  {
   "cell_type": "code",
   "execution_count": 6,
   "metadata": {},
   "outputs": [
    {
     "name": "stdout",
     "output_type": "stream",
     "text": [
      "name pratihba\n",
      "roll_no 5\n",
      "marks {'m1': 60, 'm2': 70, 'm3': 80}\n"
     ]
    }
   ],
   "source": [
    "# if want both keys and values use index\n",
    "for key, value in d3.items():\n",
    "    print(key,value)"
   ]
  },
  {
   "cell_type": "code",
   "execution_count": null,
   "metadata": {},
   "outputs": [],
   "source": []
  }
 ],
 "metadata": {
  "kernelspec": {
   "display_name": "Python 3",
   "language": "python",
   "name": "python3"
  },
  "language_info": {
   "codemirror_mode": {
    "name": "ipython",
    "version": 3
   },
   "file_extension": ".py",
   "mimetype": "text/x-python",
   "name": "python",
   "nbconvert_exporter": "python",
   "pygments_lexer": "ipython3",
   "version": "3.11.0"
  },
  "orig_nbformat": 4
 },
 "nbformat": 4,
 "nbformat_minor": 2
}
