{
 "cells": [
  {
   "cell_type": "code",
   "execution_count": 3,
   "metadata": {},
   "outputs": [
    {
     "name": "stdout",
     "output_type": "stream",
     "text": [
      "password incorrect\n",
      "still incorrect\n"
     ]
    }
   ],
   "source": [
    "email = input('tell your email')\n",
    "if '@' in email:\n",
    "\n",
    "    password = input('tell password')\n",
    "\n",
    "    if email == 'campusx@gmail.com' and password == '1234':\n",
    "        print('Welcome!')\n",
    "    elif email == 'campusx@gmail.com' and password != '1234':\n",
    "        print('password incorrect')\n",
    "        password = input('password again')\n",
    "        if password == '1234':\n",
    "            print('finally correct')\n",
    "        else:\n",
    "            print('still incorrect')\n",
    "\n",
    "else:\n",
    "\n",
    "    print('Incorrect credentials!!!')"
   ]
  },
  {
   "cell_type": "code",
   "execution_count": null,
   "metadata": {},
   "outputs": [],
   "source": []
  }
 ],
 "metadata": {
  "kernelspec": {
   "display_name": "Python 3",
   "language": "python",
   "name": "python3"
  },
  "language_info": {
   "codemirror_mode": {
    "name": "ipython",
    "version": 3
   },
   "file_extension": ".py",
   "mimetype": "text/x-python",
   "name": "python",
   "nbconvert_exporter": "python",
   "pygments_lexer": "ipython3",
   "version": "3.11.0"
  },
  "orig_nbformat": 4
 },
 "nbformat": 4,
 "nbformat_minor": 2
}
